{
 "cells": [
  {
   "cell_type": "markdown",
   "id": "34e26c90-6ba0-48d2-b31e-77bed6dd8150",
   "metadata": {},
   "source": [
    "# 导入库"
   ]
  },
  {
   "cell_type": "code",
   "execution_count": 3,
   "id": "e5c9f9e5-f9a9-40af-97e6-e876563fd047",
   "metadata": {},
   "outputs": [
    {
     "name": "stdout",
     "output_type": "stream",
     "text": [
      "11188668\n"
     ]
    }
   ],
   "source": [
    "import torch\n",
    "import matplotlib.pyplot as plt\n",
    "import random\n",
    "print(\"11188666668\")"
   ]
  },
  {
   "cell_type": "markdown",
   "id": "09cea597-0186-4b7c-99f0-14434cd79e75",
   "metadata": {},
   "source": [
    "# 数据生成函数\n",
    "\n"
   ]
  },
  {
   "cell_type": "raw",
   "id": "99580ea9",
   "metadata": {},
   "source": [
    "因为这是最简单的模型，因此数据是随机生成的\n",
    "x有四个维度，总共500行数据，因此x的形状是[1,2,3,4],[1,2,3,4],····,[1,2,3,4]\n",
    "因此w也是四个维度\n",
    "y有一个维度"
   ]
  },
  {
   "cell_type": "code",
   "execution_count": null,
   "id": "08f7b8fd",
   "metadata": {
    "pycharm": {
     "name": "#%%\n"
    }
   },
   "outputs": [],
   "source": [
    "def data_provider(w, b, data_num):\n",
    "    x = torch.normal"
   ]
  },
  {
   "cell_type": "code",
   "execution_count": null,
   "id": "909935e4",
   "metadata": {
    "collapsed": false,
    "jupyter": {
     "outputs_hidden": false
    },
    "pycharm": {
     "name": "#%%\n"
    }
   },
   "outputs": [],
   "source": []
  }
 ],
 "metadata": {
  "kernelspec": {
   "display_name": "torch",
   "language": "python",
   "name": "torch"
  },
  "language_info": {
   "codemirror_mode": {
    "name": "ipython",
    "version": 3
   },
   "file_extension": ".py",
   "mimetype": "text/x-python",
   "name": "python",
   "nbconvert_exporter": "python",
   "pygments_lexer": "ipython3",
   "version": "3.8.20"
  },
  "toc": {
   "base_numbering": 1,
   "nav_menu": {},
   "number_sections": true,
   "sideBar": true,
   "skip_h1_title": false,
   "title_cell": "Table of Contents",
   "title_sidebar": "Contents",
   "toc_cell": false,
   "toc_position": {},
   "toc_section_display": true,
   "toc_window_display": false
  }
 },
 "nbformat": 4,
 "nbformat_minor": 5
}
