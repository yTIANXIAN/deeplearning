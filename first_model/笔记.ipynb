{
 "cells": [
  {
   "cell_type": "markdown",
   "source": [
    "# 1 导入库"
   ],
   "metadata": {
    "collapsed": false
   }
  },
  {
   "cell_type": "code",
   "execution_count": 101,
   "id": "e5c9f9e5-f9a9-40af-97e6-e876563fd047",
   "metadata": {},
   "outputs": [
    {
     "name": "stdout",
     "output_type": "stream",
     "text": [
      "111\n"
     ]
    }
   ],
   "source": [
    "import torch\n",
    "import matplotlib.pyplot as plt\n",
    "import random\n",
    "print(\"111\")"
   ]
  },
  {
   "cell_type": "markdown",
   "id": "09cea597-0186-4b7c-99f0-14434cd79e75",
   "metadata": {},
   "source": [
    "# 2 数据生成\n",
    "\n",
    "因为这是最简单的模型，因此数据是随机生成的\n",
    "x有四个维度，总共500行数据，x的形状是[1,2,3,4],[1,2,3,4],····,[1,2,3,4].因此w也是四个维度\n",
    "y = w * x + b"
   ]
  },
  {
   "cell_type": "code",
   "execution_count": 102,
   "outputs": [],
   "source": [
    "def data_create(w, b, data_num):\n",
    "    x = torch.normal(0, 1, (data_num, len(w)))\n",
    "    y = torch.matmul(x, w) + b\n",
    "    #噪声\n",
    "    noise = torch.normal(0, 0.001, y.shape)\n",
    "    y += noise\n",
    "    return x, y"
   ],
   "metadata": {
    "collapsed": false,
    "pycharm": {
     "name": "#%%\n"
    }
   }
  },
  {
   "cell_type": "markdown",
   "source": [
    "# 3 数据提取\n",
    "以16个为一组提取并输出数据"
   ],
   "metadata": {
    "collapsed": false,
    "pycharm": {
     "name": "#%% md\n"
    }
   }
  },
  {
   "cell_type": "code",
   "execution_count": 103,
   "outputs": [],
   "source": [
    "def data_provider(data, labels, batch_size):\n",
    "    num = len(data)\n",
    "    index = list(range(num))\n",
    "    random.shuffle(index) # 打乱数据\n",
    "    for each in range(0, num, batch_size):\n",
    "        get_indices = index[each:each + batch_size]\n",
    "        get_data = data[get_indices]\n",
    "        get_label = labels[get_indices]\n",
    "        yield get_data, get_label"
   ],
   "metadata": {
    "collapsed": false,
    "pycharm": {
     "name": "#%%\n"
    }
   }
  },
  {
   "cell_type": "markdown",
   "source": [
    "# 4 模型搭建\n",
    "## 4.1 输出预测值"
   ],
   "metadata": {
    "collapsed": false,
    "pycharm": {
     "name": "#%% md\n"
    }
   }
  },
  {
   "cell_type": "code",
   "execution_count": 104,
   "outputs": [],
   "source": [
    "def fun(x, w, b):\n",
    "    y = torch.matmul(x, w) + b\n",
    "    return y"
   ],
   "metadata": {
    "collapsed": false,
    "pycharm": {
     "name": "#%%\n"
    }
   }
  },
  {
   "cell_type": "markdown",
   "source": [
    "## 4.3 计算损失函数"
   ],
   "metadata": {
    "collapsed": false,
    "pycharm": {
     "name": "#%% md\n"
    }
   }
  },
  {
   "cell_type": "code",
   "execution_count": 105,
   "outputs": [],
   "source": [
    "def loss(y_pred, y):\n",
    "    return torch.sum(abs(y-y_pred)) / len(y)"
   ],
   "metadata": {
    "collapsed": false,
    "pycharm": {
     "name": "#%%\n"
    }
   }
  },
  {
   "cell_type": "markdown",
   "source": [
    "## 4.4 优化器"
   ],
   "metadata": {
    "collapsed": false,
    "pycharm": {
     "name": "#%% md\n"
    }
   }
  },
  {
   "cell_type": "code",
   "execution_count": 106,
   "outputs": [],
   "source": [
    "def sgd(paras, lr):\n",
    "    with torch.no_grad():\n",
    "        for para in paras:\n",
    "            para -= lr * para.grad\n",
    "            para.grad.zero_()\n"
   ],
   "metadata": {
    "collapsed": false,
    "pycharm": {
     "name": "#%%\n"
    }
   }
  },
  {
   "cell_type": "markdown",
   "source": [
    "# 5 生成训练数据"
   ],
   "metadata": {
    "collapsed": false,
    "pycharm": {
     "name": "#%% md\n"
    }
   }
  },
  {
   "cell_type": "code",
   "execution_count": 107,
   "outputs": [],
   "source": [
    "num = 500\n",
    "true_w = torch.tensor([8.1, 2, 2, 4])\n",
    "ture_b = torch.tensor(1.1)\n",
    "x, y = data_create(true_w, ture_b, num)"
   ],
   "metadata": {
    "collapsed": false,
    "pycharm": {
     "name": "#%%\n"
    }
   }
  },
  {
   "cell_type": "markdown",
   "source": [
    "# 6 模型参数"
   ],
   "metadata": {
    "collapsed": false,
    "pycharm": {
     "name": "#%% md\n"
    }
   }
  },
  {
   "cell_type": "code",
   "execution_count": 118,
   "outputs": [],
   "source": [
    "lr = 0.1\n",
    "w = torch.normal(0, 0.01, true_w.shape, requires_grad=True)\n",
    "b = torch.tensor(0.01, requires_grad=True)"
   ],
   "metadata": {
    "collapsed": false,
    "pycharm": {
     "name": "#%%\n"
    }
   }
  },
  {
   "cell_type": "markdown",
   "source": [
    "# 7 训练模型"
   ],
   "metadata": {
    "collapsed": false
   }
  },
  {
   "cell_type": "code",
   "execution_count": 119,
   "outputs": [
    {
     "name": "stdout",
     "output_type": "stream",
     "text": [
      "epoch:0, loss:15.812511444091797\n",
      "epoch:1, loss:15.483283996582031\n",
      "epoch:2, loss:15.154058456420898\n",
      "epoch:3, loss:14.82483196258545\n",
      "epoch:4, loss:14.495607376098633\n",
      "epoch:5, loss:14.166380882263184\n",
      "epoch:6, loss:13.837154388427734\n",
      "epoch:7, loss:13.507927894592285\n",
      "epoch:8, loss:13.178702354431152\n",
      "epoch:9, loss:12.849475860595703\n",
      "epoch:10, loss:12.520249366760254\n",
      "epoch:11, loss:12.191023826599121\n",
      "epoch:12, loss:11.861797332763672\n",
      "epoch:13, loss:11.532570838928223\n",
      "epoch:14, loss:11.20334529876709\n",
      "epoch:15, loss:10.87411880493164\n",
      "epoch:16, loss:10.544893264770508\n",
      "epoch:17, loss:10.215665817260742\n",
      "epoch:18, loss:9.88644027709961\n",
      "epoch:19, loss:9.557214736938477\n",
      "epoch:20, loss:9.227988243103027\n",
      "epoch:21, loss:8.898761749267578\n",
      "epoch:22, loss:8.569535255432129\n",
      "epoch:23, loss:8.240309715270996\n",
      "epoch:24, loss:7.911083698272705\n",
      "epoch:25, loss:7.581857681274414\n",
      "epoch:26, loss:7.252631187438965\n",
      "epoch:27, loss:6.923404693603516\n",
      "epoch:28, loss:6.594178199768066\n",
      "epoch:29, loss:6.264951705932617\n",
      "epoch:30, loss:5.935725212097168\n",
      "epoch:31, loss:5.606499195098877\n",
      "epoch:32, loss:5.2772722244262695\n",
      "epoch:33, loss:4.94804573059082\n",
      "epoch:34, loss:4.618819713592529\n",
      "epoch:35, loss:4.289592742919922\n",
      "epoch:36, loss:3.9603664875030518\n",
      "epoch:37, loss:3.6311399936676025\n",
      "epoch:38, loss:3.301913022994995\n",
      "epoch:39, loss:2.972686529159546\n",
      "epoch:40, loss:2.643460512161255\n",
      "epoch:41, loss:2.3142337799072266\n",
      "epoch:42, loss:1.9850070476531982\n",
      "epoch:43, loss:1.655780553817749\n",
      "epoch:44, loss:1.3265540599822998\n",
      "epoch:45, loss:0.9973278045654297\n",
      "epoch:46, loss:0.890692949295044\n",
      "epoch:47, loss:0.813037633895874\n",
      "epoch:48, loss:0.8107926845550537\n",
      "epoch:49, loss:0.7863869667053223\n"
     ]
    }
   ],
   "source": [
    "epochs = 50\n",
    "batch_size = 16\n",
    "for epoch in range(epochs):\n",
    "    for x, y in data_provider(x, y, batch_size):\n",
    "        y_pred = fun(x, w, b)\n",
    "        l = loss(y_pred, y)\n",
    "        l.backward()\n",
    "        sgd([w, b], lr)\n",
    "        print(f\"epoch:{epoch}, loss:{l}\")"
   ],
   "metadata": {
    "collapsed": false,
    "pycharm": {
     "name": "#%%\n"
    }
   }
  },
  {
   "cell_type": "markdown",
   "source": [
    "# 8 画图"
   ],
   "metadata": {
    "collapsed": false,
    "pycharm": {
     "name": "#%% md\n"
    }
   }
  },
  {
   "cell_type": "code",
   "execution_count": 120,
   "outputs": [
    {
     "data": {
      "text/plain": "<Figure size 640x480 with 1 Axes>",
      "image/png": "[encoded data removed]"
     },
     "metadata": {},
     "output_type": "display_data"
    }
   ],
   "source": [
    "idx = 0\n",
    "plt.plot(torch.detach(x[:, idx]), torch.detach(x[:,idx]*w[idx]+b))\n",
    "plt.scatter(torch.detach(x[:, idx]), torch.detach(y),1)\n",
    "plt.show()"
   ],
   "metadata": {
    "collapsed": false,
    "pycharm": {
     "name": "#%%\n"
    }
   }
  },
  {
   "cell_type": "code",
   "execution_count": null,
   "outputs": [],
   "source": [],
   "metadata": {
    "collapsed": false,
    "pycharm": {
     "name": "#%%\n"
    }
   }
  }
 ],
 "metadata": {
  "kernelspec": {
   "display_name": "torch",
   "language": "python",
   "name": "torch"
  },
  "language_info": {
   "codemirror_mode": {
    "name": "ipython",
    "version": 3
   },
   "file_extension": ".py",
   "mimetype": "text/x-python",
   "name": "python",
   "nbconvert_exporter": "python",
   "pygments_lexer": "ipython3",
   "version": "3.8.20"
  },
  "toc": {
   "base_numbering": 1,
   "nav_menu": {},
   "number_sections": true,
   "sideBar": true,
   "skip_h1_title": false,
   "title_cell": "Table of Contents",
   "title_sidebar": "Contents",
   "toc_cell": false,
   "toc_position": {},
   "toc_section_display": true,
   "toc_window_display": false
  }
 },
 "nbformat": 4,
 "nbformat_minor": 5
}